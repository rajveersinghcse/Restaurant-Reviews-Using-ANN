{
 "cells": [
  {
   "cell_type": "markdown",
   "id": "b818e26f",
   "metadata": {},
   "source": [
    "# Project - Restaurant positive and negative reviews prediction using Vanila Neural Network "
   ]
  },
  {
   "cell_type": "markdown",
   "id": "c0b13068",
   "metadata": {},
   "source": [
    "### Imported libraries"
   ]
  },
  {
   "cell_type": "code",
   "execution_count": 2,
   "id": "2ba9dbec",
   "metadata": {},
   "outputs": [],
   "source": [
    "from warnings import filterwarnings\n",
    "filterwarnings('ignore')\n",
    "import pandas as pd"
   ]
  },
  {
   "cell_type": "code",
   "execution_count": 3,
   "id": "958f79c3",
   "metadata": {},
   "outputs": [],
   "source": [
    "A=pd.read_csv('C:/Vaibhav Sir/Restaurant_Reviews.tsv',sep='\\t')"
   ]
  },
  {
   "cell_type": "code",
   "execution_count": 10,
   "id": "4cd6f17a",
   "metadata": {},
   "outputs": [
    {
     "name": "stdout",
     "output_type": "stream",
     "text": [
      "<class 'pandas.core.frame.DataFrame'>\n",
      "RangeIndex: 1000 entries, 0 to 999\n",
      "Data columns (total 2 columns):\n",
      " #   Column  Non-Null Count  Dtype \n",
      "---  ------  --------------  ----- \n",
      " 0   Review  1000 non-null   object\n",
      " 1   Liked   1000 non-null   int64 \n",
      "dtypes: int64(1), object(1)\n",
      "memory usage: 15.8+ KB\n"
     ]
    }
   ],
   "source": [
    "A.info()"
   ]
  },
  {
   "cell_type": "code",
   "execution_count": 11,
   "id": "bd7cfc28",
   "metadata": {},
   "outputs": [
    {
     "data": {
      "text/plain": [
       "(1000, 2)"
      ]
     },
     "execution_count": 11,
     "metadata": {},
     "output_type": "execute_result"
    }
   ],
   "source": [
    "A.shape"
   ]
  },
  {
   "cell_type": "code",
   "execution_count": 4,
   "id": "cfe53c5e",
   "metadata": {},
   "outputs": [
    {
     "data": {
      "text/html": [
       "<div>\n",
       "<style scoped>\n",
       "    .dataframe tbody tr th:only-of-type {\n",
       "        vertical-align: middle;\n",
       "    }\n",
       "\n",
       "    .dataframe tbody tr th {\n",
       "        vertical-align: top;\n",
       "    }\n",
       "\n",
       "    .dataframe thead th {\n",
       "        text-align: right;\n",
       "    }\n",
       "</style>\n",
       "<table border=\"1\" class=\"dataframe\">\n",
       "  <thead>\n",
       "    <tr style=\"text-align: right;\">\n",
       "      <th></th>\n",
       "      <th>Review</th>\n",
       "      <th>Liked</th>\n",
       "    </tr>\n",
       "  </thead>\n",
       "  <tbody>\n",
       "    <tr>\n",
       "      <th>0</th>\n",
       "      <td>Wow... Loved this place.</td>\n",
       "      <td>1</td>\n",
       "    </tr>\n",
       "    <tr>\n",
       "      <th>1</th>\n",
       "      <td>Crust is not good.</td>\n",
       "      <td>0</td>\n",
       "    </tr>\n",
       "    <tr>\n",
       "      <th>2</th>\n",
       "      <td>Not tasty and the texture was just nasty.</td>\n",
       "      <td>0</td>\n",
       "    </tr>\n",
       "    <tr>\n",
       "      <th>3</th>\n",
       "      <td>Stopped by during the late May bank holiday of...</td>\n",
       "      <td>1</td>\n",
       "    </tr>\n",
       "    <tr>\n",
       "      <th>4</th>\n",
       "      <td>The selection on the menu was great and so wer...</td>\n",
       "      <td>1</td>\n",
       "    </tr>\n",
       "    <tr>\n",
       "      <th>5</th>\n",
       "      <td>Now I am getting angry and I want my damn pho.</td>\n",
       "      <td>0</td>\n",
       "    </tr>\n",
       "    <tr>\n",
       "      <th>6</th>\n",
       "      <td>Honeslty it didn't taste THAT fresh.)</td>\n",
       "      <td>0</td>\n",
       "    </tr>\n",
       "    <tr>\n",
       "      <th>7</th>\n",
       "      <td>The potatoes were like rubber and you could te...</td>\n",
       "      <td>0</td>\n",
       "    </tr>\n",
       "    <tr>\n",
       "      <th>8</th>\n",
       "      <td>The fries were great too.</td>\n",
       "      <td>1</td>\n",
       "    </tr>\n",
       "    <tr>\n",
       "      <th>9</th>\n",
       "      <td>A great touch.</td>\n",
       "      <td>1</td>\n",
       "    </tr>\n",
       "    <tr>\n",
       "      <th>10</th>\n",
       "      <td>Service was very prompt.</td>\n",
       "      <td>1</td>\n",
       "    </tr>\n",
       "    <tr>\n",
       "      <th>11</th>\n",
       "      <td>Would not go back.</td>\n",
       "      <td>0</td>\n",
       "    </tr>\n",
       "    <tr>\n",
       "      <th>12</th>\n",
       "      <td>The cashier had no care what so ever on what I...</td>\n",
       "      <td>0</td>\n",
       "    </tr>\n",
       "    <tr>\n",
       "      <th>13</th>\n",
       "      <td>I tried the Cape Cod ravoli, chicken, with cra...</td>\n",
       "      <td>1</td>\n",
       "    </tr>\n",
       "    <tr>\n",
       "      <th>14</th>\n",
       "      <td>I was disgusted because I was pretty sure that...</td>\n",
       "      <td>0</td>\n",
       "    </tr>\n",
       "    <tr>\n",
       "      <th>15</th>\n",
       "      <td>I was shocked because no signs indicate cash o...</td>\n",
       "      <td>0</td>\n",
       "    </tr>\n",
       "    <tr>\n",
       "      <th>16</th>\n",
       "      <td>Highly recommended.</td>\n",
       "      <td>1</td>\n",
       "    </tr>\n",
       "    <tr>\n",
       "      <th>17</th>\n",
       "      <td>Waitress was a little slow in service.</td>\n",
       "      <td>0</td>\n",
       "    </tr>\n",
       "    <tr>\n",
       "      <th>18</th>\n",
       "      <td>This place is not worth your time, let alone V...</td>\n",
       "      <td>0</td>\n",
       "    </tr>\n",
       "    <tr>\n",
       "      <th>19</th>\n",
       "      <td>did not like at all.</td>\n",
       "      <td>0</td>\n",
       "    </tr>\n",
       "  </tbody>\n",
       "</table>\n",
       "</div>"
      ],
      "text/plain": [
       "                                               Review  Liked\n",
       "0                            Wow... Loved this place.      1\n",
       "1                                  Crust is not good.      0\n",
       "2           Not tasty and the texture was just nasty.      0\n",
       "3   Stopped by during the late May bank holiday of...      1\n",
       "4   The selection on the menu was great and so wer...      1\n",
       "5      Now I am getting angry and I want my damn pho.      0\n",
       "6               Honeslty it didn't taste THAT fresh.)      0\n",
       "7   The potatoes were like rubber and you could te...      0\n",
       "8                           The fries were great too.      1\n",
       "9                                      A great touch.      1\n",
       "10                           Service was very prompt.      1\n",
       "11                                 Would not go back.      0\n",
       "12  The cashier had no care what so ever on what I...      0\n",
       "13  I tried the Cape Cod ravoli, chicken, with cra...      1\n",
       "14  I was disgusted because I was pretty sure that...      0\n",
       "15  I was shocked because no signs indicate cash o...      0\n",
       "16                                Highly recommended.      1\n",
       "17             Waitress was a little slow in service.      0\n",
       "18  This place is not worth your time, let alone V...      0\n",
       "19                               did not like at all.      0"
      ]
     },
     "execution_count": 4,
     "metadata": {},
     "output_type": "execute_result"
    }
   ],
   "source": [
    "A.head(20)"
   ]
  },
  {
   "cell_type": "markdown",
   "id": "62a30be1",
   "metadata": {},
   "source": [
    "### Removing Special symbols"
   ]
  },
  {
   "cell_type": "code",
   "execution_count": 6,
   "id": "1d6bcf75",
   "metadata": {},
   "outputs": [],
   "source": [
    "Q=[]\n",
    "from re import sub\n",
    "for i in A.Review:\n",
    "    Q.append(sub(\"[^a-zA-Z0-9 ]\",\"\",i.upper()))\n",
    "    "
   ]
  },
  {
   "cell_type": "code",
   "execution_count": 7,
   "id": "3b7d7bd8",
   "metadata": {},
   "outputs": [
    {
     "data": {
      "text/plain": [
       "['WOW LOVED THIS PLACE',\n",
       " 'CRUST IS NOT GOOD',\n",
       " 'NOT TASTY AND THE TEXTURE WAS JUST NASTY',\n",
       " 'STOPPED BY DURING THE LATE MAY BANK HOLIDAY OFF RICK STEVE RECOMMENDATION AND LOVED IT',\n",
       " 'THE SELECTION ON THE MENU WAS GREAT AND SO WERE THE PRICES',\n",
       " 'NOW I AM GETTING ANGRY AND I WANT MY DAMN PHO',\n",
       " 'HONESLTY IT DIDNT TASTE THAT FRESH',\n",
       " 'THE POTATOES WERE LIKE RUBBER AND YOU COULD TELL THEY HAD BEEN MADE UP AHEAD OF TIME BEING KEPT UNDER A WARMER',\n",
       " 'THE FRIES WERE GREAT TOO',\n",
       " 'A GREAT TOUCH',\n",
       " 'SERVICE WAS VERY PROMPT',\n",
       " 'WOULD NOT GO BACK',\n",
       " 'THE CASHIER HAD NO CARE WHAT SO EVER ON WHAT I HAD TO SAY IT STILL ENDED UP BEING WAYYY OVERPRICED',\n",
       " 'I TRIED THE CAPE COD RAVOLI CHICKEN WITH CRANBERRYMMMM',\n",
       " 'I WAS DISGUSTED BECAUSE I WAS PRETTY SURE THAT WAS HUMAN HAIR',\n",
       " 'I WAS SHOCKED BECAUSE NO SIGNS INDICATE CASH ONLY',\n",
       " 'HIGHLY RECOMMENDED',\n",
       " 'WAITRESS WAS A LITTLE SLOW IN SERVICE',\n",
       " 'THIS PLACE IS NOT WORTH YOUR TIME LET ALONE VEGAS']"
      ]
     },
     "execution_count": 7,
     "metadata": {},
     "output_type": "execute_result"
    }
   ],
   "source": [
    "Q[0:19]"
   ]
  },
  {
   "cell_type": "markdown",
   "id": "e68ceeb8",
   "metadata": {},
   "source": [
    "## Bag Of Words"
   ]
  },
  {
   "cell_type": "code",
   "execution_count": 9,
   "id": "41cd35e5",
   "metadata": {},
   "outputs": [
    {
     "data": {
      "text/plain": [
       "array([[0, 0, 0, ..., 0, 0, 0],\n",
       "       [0, 0, 0, ..., 0, 0, 0],\n",
       "       [0, 0, 0, ..., 0, 0, 0],\n",
       "       ...,\n",
       "       [0, 0, 0, ..., 0, 0, 0],\n",
       "       [0, 0, 0, ..., 0, 0, 0],\n",
       "       [0, 0, 0, ..., 0, 0, 0]], dtype=int64)"
      ]
     },
     "execution_count": 9,
     "metadata": {},
     "output_type": "execute_result"
    }
   ],
   "source": [
    "from sklearn.feature_extraction.text import CountVectorizer\n",
    "cv=CountVectorizer()\n",
    "bag_of_words=cv.fit_transform(Q).toarray()\n",
    "bag_of_words[0:20]"
   ]
  },
  {
   "cell_type": "code",
   "execution_count": 12,
   "id": "086d0897",
   "metadata": {},
   "outputs": [],
   "source": [
    "#all unique words\n",
    "words=cv.get_feature_names()"
   ]
  },
  {
   "cell_type": "code",
   "execution_count": 13,
   "id": "c06cb910",
   "metadata": {},
   "outputs": [
    {
     "data": {
      "text/plain": [
       "['10',\n",
       " '100',\n",
       " '1199',\n",
       " '12',\n",
       " '15',\n",
       " '15lb',\n",
       " '17',\n",
       " '1979',\n",
       " '20',\n",
       " '2007',\n",
       " '23',\n",
       " '30',\n",
       " '30s',\n",
       " '34ths',\n",
       " '35',\n",
       " '40',\n",
       " '400',\n",
       " '40min',\n",
       " '45',\n",
       " '70']"
      ]
     },
     "execution_count": 13,
     "metadata": {},
     "output_type": "execute_result"
    }
   ],
   "source": [
    "words[0:20]"
   ]
  },
  {
   "cell_type": "code",
   "execution_count": 15,
   "id": "93138752",
   "metadata": {},
   "outputs": [],
   "source": [
    "from sklearn.model_selection import train_test_split\n",
    "X=bag_of_words\n",
    "Y=A.Liked\n",
    "xtrain,xtest,ytrain,ytest=train_test_split(X,Y,test_size=0.2,random_state=21)\n",
    "#xtrain"
   ]
  },
  {
   "cell_type": "code",
   "execution_count": 16,
   "id": "97f094be",
   "metadata": {},
   "outputs": [
    {
     "data": {
      "text/plain": [
       "(1000, 2067)"
      ]
     },
     "execution_count": 16,
     "metadata": {},
     "output_type": "execute_result"
    }
   ],
   "source": [
    "X.shape"
   ]
  },
  {
   "cell_type": "markdown",
   "id": "d3c899ee",
   "metadata": {},
   "source": [
    "# Artificial Neural Network"
   ]
  },
  {
   "cell_type": "code",
   "execution_count": 17,
   "id": "b288464f",
   "metadata": {},
   "outputs": [],
   "source": [
    "from keras.models import Sequential\n",
    "from keras.layers import Dense,Dropout\n",
    "nn=Sequential()\n",
    "nn.add(Dense(500,input_dim=(2067)))\n",
    "nn.add(Dense(500))\n",
    "nn.add(Dropout(0.3))\n",
    "nn.add(Dense(1,activation='sigmoid'))\n"
   ]
  },
  {
   "cell_type": "code",
   "execution_count": 18,
   "id": "96ce467f",
   "metadata": {},
   "outputs": [
    {
     "name": "stdout",
     "output_type": "stream",
     "text": [
      "Epoch 1/50\n",
      "20/20 [==============================] - 2s 48ms/step - loss: 0.5976 - accuracy: 0.6875 - val_loss: 0.4551 - val_accuracy: 0.8562\n",
      "Epoch 2/50\n",
      "20/20 [==============================] - 1s 39ms/step - loss: 0.2322 - accuracy: 0.9297 - val_loss: 0.4598 - val_accuracy: 0.7750\n",
      "Epoch 3/50\n",
      "20/20 [==============================] - 1s 31ms/step - loss: 0.0831 - accuracy: 0.9812 - val_loss: 0.4779 - val_accuracy: 0.7750\n",
      "Epoch 4/50\n",
      "20/20 [==============================] - 1s 33ms/step - loss: 0.0299 - accuracy: 0.9922 - val_loss: 0.6226 - val_accuracy: 0.7750\n",
      "Epoch 5/50\n",
      "20/20 [==============================] - 1s 33ms/step - loss: 0.0110 - accuracy: 0.9953 - val_loss: 0.6638 - val_accuracy: 0.7812\n",
      "Epoch 6/50\n",
      "20/20 [==============================] - 1s 32ms/step - loss: 0.0049 - accuracy: 1.0000 - val_loss: 1.2153 - val_accuracy: 0.7188\n",
      "Epoch 7/50\n",
      "20/20 [==============================] - 1s 33ms/step - loss: 0.0015 - accuracy: 1.0000 - val_loss: 1.1278 - val_accuracy: 0.7250\n",
      "Epoch 8/50\n",
      "20/20 [==============================] - 1s 33ms/step - loss: 3.3664e-04 - accuracy: 1.0000 - val_loss: 1.3288 - val_accuracy: 0.7125\n",
      "Epoch 9/50\n",
      "20/20 [==============================] - 1s 34ms/step - loss: 1.3007e-04 - accuracy: 1.0000 - val_loss: 1.3373 - val_accuracy: 0.7250\n",
      "Epoch 10/50\n",
      "20/20 [==============================] - 1s 44ms/step - loss: 2.8648e-05 - accuracy: 1.0000 - val_loss: 1.6422 - val_accuracy: 0.7125\n",
      "Epoch 11/50\n",
      "20/20 [==============================] - 1s 41ms/step - loss: 1.6708e-05 - accuracy: 1.0000 - val_loss: 1.6771 - val_accuracy: 0.7250\n",
      "Epoch 12/50\n",
      "20/20 [==============================] - 1s 37ms/step - loss: 4.3474e-06 - accuracy: 1.0000 - val_loss: 2.0532 - val_accuracy: 0.7125\n",
      "Epoch 13/50\n",
      "20/20 [==============================] - 1s 32ms/step - loss: 1.3302e-06 - accuracy: 1.0000 - val_loss: 2.1140 - val_accuracy: 0.6938\n",
      "Epoch 14/50\n",
      "20/20 [==============================] - 1s 33ms/step - loss: 1.2069e-06 - accuracy: 1.0000 - val_loss: 2.7640 - val_accuracy: 0.7125\n",
      "Epoch 15/50\n",
      "20/20 [==============================] - 1s 40ms/step - loss: 2.1347e-06 - accuracy: 1.0000 - val_loss: 2.3837 - val_accuracy: 0.7250\n",
      "Epoch 16/50\n",
      "20/20 [==============================] - 1s 32ms/step - loss: 1.4781e-07 - accuracy: 1.0000 - val_loss: 2.5395 - val_accuracy: 0.7250\n",
      "Epoch 17/50\n",
      "20/20 [==============================] - 1s 32ms/step - loss: 5.6228e-08 - accuracy: 1.0000 - val_loss: 2.5301 - val_accuracy: 0.7125\n",
      "Epoch 18/50\n",
      "20/20 [==============================] - 1s 32ms/step - loss: 3.8548e-08 - accuracy: 1.0000 - val_loss: 2.5640 - val_accuracy: 0.7063\n",
      "Epoch 19/50\n",
      "20/20 [==============================] - 1s 33ms/step - loss: 2.4933e-08 - accuracy: 1.0000 - val_loss: 2.5779 - val_accuracy: 0.7063\n",
      "Epoch 20/50\n",
      "20/20 [==============================] - 1s 43ms/step - loss: 2.0135e-08 - accuracy: 1.0000 - val_loss: 2.5434 - val_accuracy: 0.7063\n",
      "Epoch 21/50\n",
      "20/20 [==============================] - 1s 33ms/step - loss: 2.1265e-08 - accuracy: 1.0000 - val_loss: 2.6160 - val_accuracy: 0.7063\n",
      "Epoch 22/50\n",
      "20/20 [==============================] - 1s 39ms/step - loss: 1.2822e-08 - accuracy: 1.0000 - val_loss: 2.6537 - val_accuracy: 0.7063\n",
      "Epoch 23/50\n",
      "20/20 [==============================] - 1s 31ms/step - loss: 1.0505e-08 - accuracy: 1.0000 - val_loss: 2.6284 - val_accuracy: 0.7063\n",
      "Epoch 24/50\n",
      "20/20 [==============================] - 1s 32ms/step - loss: 1.0248e-08 - accuracy: 1.0000 - val_loss: 2.6500 - val_accuracy: 0.7063\n",
      "Epoch 25/50\n",
      "20/20 [==============================] - 1s 32ms/step - loss: 1.1299e-08 - accuracy: 1.0000 - val_loss: 2.6724 - val_accuracy: 0.7063\n",
      "Epoch 26/50\n",
      "20/20 [==============================] - 1s 32ms/step - loss: 8.5169e-09 - accuracy: 1.0000 - val_loss: 2.7055 - val_accuracy: 0.7063\n",
      "Epoch 27/50\n",
      "20/20 [==============================] - 1s 34ms/step - loss: 8.1450e-09 - accuracy: 1.0000 - val_loss: 2.6756 - val_accuracy: 0.7063\n",
      "Epoch 28/50\n",
      "20/20 [==============================] - 1s 33ms/step - loss: 7.6801e-09 - accuracy: 1.0000 - val_loss: 2.6815 - val_accuracy: 0.7063\n",
      "Epoch 29/50\n",
      "20/20 [==============================] - 1s 32ms/step - loss: 8.2866e-09 - accuracy: 1.0000 - val_loss: 2.6959 - val_accuracy: 0.7063\n",
      "Epoch 30/50\n",
      "20/20 [==============================] - 1s 33ms/step - loss: 7.7092e-09 - accuracy: 1.0000 - val_loss: 2.7135 - val_accuracy: 0.7063\n",
      "Epoch 31/50\n",
      "20/20 [==============================] - 1s 39ms/step - loss: 5.5493e-09 - accuracy: 1.0000 - val_loss: 2.7123 - val_accuracy: 0.7063\n",
      "Epoch 32/50\n",
      "20/20 [==============================] - 1s 32ms/step - loss: 6.4090e-09 - accuracy: 1.0000 - val_loss: 2.7123 - val_accuracy: 0.7063\n",
      "Epoch 33/50\n",
      "20/20 [==============================] - 1s 32ms/step - loss: 5.5322e-09 - accuracy: 1.0000 - val_loss: 2.7069 - val_accuracy: 0.7063\n",
      "Epoch 34/50\n",
      "20/20 [==============================] - 1s 32ms/step - loss: 4.9812e-09 - accuracy: 1.0000 - val_loss: 2.7190 - val_accuracy: 0.7063\n",
      "Epoch 35/50\n",
      "20/20 [==============================] - 1s 32ms/step - loss: 5.1285e-09 - accuracy: 1.0000 - val_loss: 2.7422 - val_accuracy: 0.7063\n",
      "Epoch 36/50\n",
      "20/20 [==============================] - 1s 31ms/step - loss: 4.9355e-09 - accuracy: 1.0000 - val_loss: 2.7328 - val_accuracy: 0.7063\n",
      "Epoch 37/50\n",
      "20/20 [==============================] - 1s 31ms/step - loss: 4.8503e-09 - accuracy: 1.0000 - val_loss: 2.7402 - val_accuracy: 0.7063\n",
      "Epoch 38/50\n",
      "20/20 [==============================] - 1s 46ms/step - loss: 4.3527e-09 - accuracy: 1.0000 - val_loss: 2.7558 - val_accuracy: 0.7063\n",
      "Epoch 39/50\n",
      "20/20 [==============================] - 1s 32ms/step - loss: 4.0811e-09 - accuracy: 1.0000 - val_loss: 2.7410 - val_accuracy: 0.7063\n",
      "Epoch 40/50\n",
      "20/20 [==============================] - 1s 39ms/step - loss: 4.2072e-09 - accuracy: 1.0000 - val_loss: 2.7449 - val_accuracy: 0.7063\n",
      "Epoch 41/50\n",
      "20/20 [==============================] - 1s 33ms/step - loss: 3.8157e-09 - accuracy: 1.0000 - val_loss: 2.7423 - val_accuracy: 0.7063\n",
      "Epoch 42/50\n",
      "20/20 [==============================] - 1s 32ms/step - loss: 4.0023e-09 - accuracy: 1.0000 - val_loss: 2.7514 - val_accuracy: 0.7063\n",
      "Epoch 43/50\n",
      "20/20 [==============================] - 1s 40ms/step - loss: 3.3059e-09 - accuracy: 1.0000 - val_loss: 2.7458 - val_accuracy: 0.7063\n",
      "Epoch 44/50\n",
      "20/20 [==============================] - 1s 35ms/step - loss: 3.6449e-09 - accuracy: 1.0000 - val_loss: 2.7615 - val_accuracy: 0.7063\n",
      "Epoch 45/50\n",
      "20/20 [==============================] - 1s 33ms/step - loss: 3.9184e-09 - accuracy: 1.0000 - val_loss: 2.7639 - val_accuracy: 0.7063\n",
      "Epoch 46/50\n",
      "20/20 [==============================] - 1s 34ms/step - loss: 4.5989e-09 - accuracy: 1.0000 - val_loss: 2.7860 - val_accuracy: 0.7063\n",
      "Epoch 47/50\n",
      "20/20 [==============================] - 1s 35ms/step - loss: 4.3883e-09 - accuracy: 1.0000 - val_loss: 2.7687 - val_accuracy: 0.7063\n",
      "Epoch 48/50\n",
      "20/20 [==============================] - 1s 34ms/step - loss: 3.4917e-09 - accuracy: 1.0000 - val_loss: 2.7791 - val_accuracy: 0.7063\n",
      "Epoch 49/50\n",
      "20/20 [==============================] - 1s 38ms/step - loss: 3.1938e-09 - accuracy: 1.0000 - val_loss: 2.7767 - val_accuracy: 0.7063\n",
      "Epoch 50/50\n",
      "20/20 [==============================] - 1s 44ms/step - loss: 3.0790e-09 - accuracy: 1.0000 - val_loss: 2.7800 - val_accuracy: 0.7063\n"
     ]
    },
    {
     "data": {
      "text/plain": [
       "<keras.callbacks.History at 0x1fd5aff1430>"
      ]
     },
     "execution_count": 18,
     "metadata": {},
     "output_type": "execute_result"
    }
   ],
   "source": [
    "nn.compile(loss='binary_crossentropy',metrics=['accuracy'])\n",
    "nn.fit(xtrain,ytrain,validation_split=0.2,epochs=50)"
   ]
  },
  {
   "cell_type": "markdown",
   "id": "af2bfbd2",
   "metadata": {},
   "source": [
    "## Testing and Evaluation"
   ]
  },
  {
   "cell_type": "code",
   "execution_count": 19,
   "id": "f5303fe4",
   "metadata": {},
   "outputs": [],
   "source": [
    "Q = []\n",
    "for i in nn.predict(xtest):\n",
    "    if(i[0] < 0.5):\n",
    "        Q.append(0)\n",
    "    else:\n",
    "        Q.append(1)"
   ]
  },
  {
   "cell_type": "code",
   "execution_count": 20,
   "id": "60943331",
   "metadata": {},
   "outputs": [
    {
     "data": {
      "text/plain": [
       "0.755"
      ]
     },
     "execution_count": 20,
     "metadata": {},
     "output_type": "execute_result"
    }
   ],
   "source": [
    "from sklearn.metrics import accuracy_score\n",
    "accuracy_score(ytest,Q)\n",
    "#because of small dataset getting this accuracy score"
   ]
  },
  {
   "cell_type": "markdown",
   "id": "806ab253",
   "metadata": {},
   "source": [
    "### Predicting own data"
   ]
  },
  {
   "cell_type": "code",
   "execution_count": 21,
   "id": "5e9e4c52",
   "metadata": {},
   "outputs": [],
   "source": [
    "check=\"I did not like the food\""
   ]
  },
  {
   "cell_type": "code",
   "execution_count": 22,
   "id": "2d096201",
   "metadata": {},
   "outputs": [],
   "source": [
    "check1=cv.transform([check.upper()]).toarray()"
   ]
  },
  {
   "cell_type": "code",
   "execution_count": 23,
   "id": "51e9e659",
   "metadata": {},
   "outputs": [],
   "source": [
    "pred=nn.predict(check1)[0]"
   ]
  },
  {
   "cell_type": "code",
   "execution_count": 27,
   "id": "1e847788",
   "metadata": {},
   "outputs": [],
   "source": [
    "Q=[]\n",
    "if pred>0.5:\n",
    "    Q.append('Positive')\n",
    "else:\n",
    "    Q.append('Negative')\n",
    "    "
   ]
  },
  {
   "cell_type": "code",
   "execution_count": 28,
   "id": "2fd8ee60",
   "metadata": {},
   "outputs": [
    {
     "data": {
      "text/plain": [
       "['Negative']"
      ]
     },
     "execution_count": 28,
     "metadata": {},
     "output_type": "execute_result"
    }
   ],
   "source": [
    "Q"
   ]
  },
  {
   "cell_type": "code",
   "execution_count": null,
   "id": "3d913b65",
   "metadata": {},
   "outputs": [],
   "source": []
  }
 ],
 "metadata": {
  "kernelspec": {
   "display_name": "Python 3",
   "language": "python",
   "name": "python3"
  },
  "language_info": {
   "codemirror_mode": {
    "name": "ipython",
    "version": 3
   },
   "file_extension": ".py",
   "mimetype": "text/x-python",
   "name": "python",
   "nbconvert_exporter": "python",
   "pygments_lexer": "ipython3",
   "version": "3.8.8"
  }
 },
 "nbformat": 4,
 "nbformat_minor": 5
}
